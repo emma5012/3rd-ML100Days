{
 "cells": [
  {
   "cell_type": "markdown",
   "metadata": {},
   "source": [
    "## Work\n",
    "1. 請嘗試寫一個 callback 用來記錄各類別在訓練過程中，對驗證集的 True Positive 與 True Negative"
   ]
  },
  {
   "cell_type": "markdown",
   "metadata": {},
   "source": [
    "### callbacks時機包含\n",
    "- on_training_begin\n",
    "- on_epoch_begin\n",
    "- on_batch_begin\n",
    "- on_batch_end\n",
    "- on_epoch_end\n",
    "- on_training_end\n"
   ]
  },
  {
   "cell_type": "code",
   "execution_count": 14,
   "metadata": {},
   "outputs": [],
   "source": [
    "import os\n",
    "import keras\n",
    "import numpy as np\n",
    "\n",
    "# Disable GPU\n",
    "os.environ[\"CUDA_VISIBLE_DEVICES\"] = \"\""
   ]
  },
  {
   "cell_type": "code",
   "execution_count": 20,
   "metadata": {},
   "outputs": [],
   "source": [
    "train, test = keras.datasets.cifar10.load_data()\n",
    "\n",
    "## 資料前處理\n",
    "def preproc_x(x, flatten=True):\n",
    "    x = x / 255.\n",
    "    if flatten:\n",
    "        x = x.reshape((len(x), -1))\n",
    "    return x\n",
    "\n",
    "def preproc_y(y, num_classes=10):\n",
    "    if y.shape[-1] == 1:\n",
    "        y = keras.utils.to_categorical(y, num_classes)\n",
    "    return y    \n",
    "\n",
    "x_train, y_train = train\n",
    "x_test, y_test = test\n",
    "\n",
    "# Preproc the inputs\n",
    "x_train = preproc_x(x_train)\n",
    "x_test = preproc_x(x_test)\n",
    "\n",
    "# Preprc the outputs\n",
    "y_train = preproc_y(y_train)\n",
    "y_test = preproc_y(y_test)"
   ]
  },
  {
   "cell_type": "code",
   "execution_count": 21,
   "metadata": {},
   "outputs": [],
   "source": [
    "from keras.layers import BatchNormalization\n",
    "\n",
    "def build_mlp(input_shape, output_units=10, num_neurons=[512, 256, 128]):\n",
    "    input_layer = keras.layers.Input(input_shape)\n",
    "    \n",
    "    for i, n_units in enumerate(num_neurons):\n",
    "        if i == 0:\n",
    "            x = keras.layers.Dense(units=n_units, \n",
    "                                   activation=\"relu\", \n",
    "                                   name=\"hidden_layer\"+str(i+1))(input_layer)\n",
    "            x = BatchNormalization()(x)\n",
    "        else:\n",
    "            x = keras.layers.Dense(units=n_units, \n",
    "                                   activation=\"relu\", \n",
    "                                   name=\"hidden_layer\"+str(i+1))(x)\n",
    "            x = BatchNormalization()(x)\n",
    "    \n",
    "    out = keras.layers.Dense(units=output_units, activation=\"softmax\", name=\"output\")(x)\n",
    "    \n",
    "    model = keras.models.Model(inputs=[input_layer], outputs=[out])\n",
    "    return model"
   ]
  },
  {
   "cell_type": "code",
   "execution_count": 22,
   "metadata": {},
   "outputs": [],
   "source": [
    "## 超參數設定\n",
    "LEARNING_RATE = 1e-3\n",
    "EPOCHS = 20\n",
    "BATCH_SIZE = 1024\n",
    "MOMENTUM = 0.95"
   ]
  },
  {
   "cell_type": "code",
   "execution_count": 23,
   "metadata": {},
   "outputs": [],
   "source": [
    "# 載入 Callbacks\n",
    "from keras.callbacks import Callback\n",
    "from sklearn.metrics import f1_score\n",
    "\n",
    "# Record_TruePositive_TrueNegative\n",
    "class Record_tp_tn(Callback):\n",
    "    \"\"\"Code Here\n",
    "    撰寫一個紀錄 ture positive 與 true negative 數量的 callbacks    \n",
    "    \"\"\"\n",
    "    def on_train_begin(self, epocj, logs={}):\n",
    "        logs=logs or {}\n",
    "        record_items = [\"val_auc\", \"val_f1sc\", \"val_tp\", \"val_tn\"]\n",
    "        for i in record_items:\n",
    "            if i not in self.params['metrics']:\n",
    "                self.params['metrics'].append(i)\n",
    "                \n",
    "    def on_epoch_end(self, epoch, logs={}, thres=0.5):\n",
    "        logs = logs or {}\n",
    "        y_true = self.validation_data[1].argmax(axis = 1)\n",
    "        y_pred = self.model.predict(self.validation_data[0])\n",
    "        y_pred = (y_pred[:, 1] >= thres) * 1\n",
    "        \n",
    "        logs[\"val_tp\"] = np.sum(np.logical_and(y_pred == 1, y_true == 1))\n",
    "        logs[\"val_tn\"] = np.sum(np.logical_and(y_pred == 0, y_true == 0))\n",
    "    \n",
    "rec_tptn = Record_tp_tn()"
   ]
  },
  {
   "cell_type": "code",
   "execution_count": 24,
   "metadata": {
    "scrolled": true
   },
   "outputs": [
    {
     "name": "stdout",
     "output_type": "stream",
     "text": [
      "Model: \"model_6\"\n",
      "_________________________________________________________________\n",
      "Layer (type)                 Output Shape              Param #   \n",
      "=================================================================\n",
      "input_6 (InputLayer)         (None, 3072)              0         \n",
      "_________________________________________________________________\n",
      "hidden_layer1 (Dense)        (None, 512)               1573376   \n",
      "_________________________________________________________________\n",
      "batch_normalization_16 (Batc (None, 512)               2048      \n",
      "_________________________________________________________________\n",
      "hidden_layer2 (Dense)        (None, 256)               131328    \n",
      "_________________________________________________________________\n",
      "batch_normalization_17 (Batc (None, 256)               1024      \n",
      "_________________________________________________________________\n",
      "hidden_layer3 (Dense)        (None, 128)               32896     \n",
      "_________________________________________________________________\n",
      "batch_normalization_18 (Batc (None, 128)               512       \n",
      "_________________________________________________________________\n",
      "output (Dense)               (None, 10)                1290      \n",
      "=================================================================\n",
      "Total params: 1,742,474\n",
      "Trainable params: 1,740,682\n",
      "Non-trainable params: 1,792\n",
      "_________________________________________________________________\n",
      "Train on 50000 samples, validate on 10000 samples\n",
      "Epoch 1/20\n",
      "50000/50000 [==============================] - 11s 228us/step - loss: 2.2602 - accuracy: 0.2598 - val_loss: 2.1315 - val_accuracy: 0.2007\n",
      "Epoch 2/20\n",
      "50000/50000 [==============================] - 10s 191us/step - loss: 1.7545 - accuracy: 0.3900 - val_loss: 1.9596 - val_accuracy: 0.3073\n",
      "Epoch 3/20\n",
      "50000/50000 [==============================] - 9s 189us/step - loss: 1.6270 - accuracy: 0.4297 - val_loss: 1.8113 - val_accuracy: 0.3793\n",
      "Epoch 4/20\n",
      "50000/50000 [==============================] - 10s 190us/step - loss: 1.5506 - accuracy: 0.4574 - val_loss: 1.7213 - val_accuracy: 0.4121\n",
      "Epoch 5/20\n",
      "50000/50000 [==============================] - 9s 190us/step - loss: 1.4958 - accuracy: 0.4773 - val_loss: 1.6408 - val_accuracy: 0.4323\n",
      "Epoch 6/20\n",
      "50000/50000 [==============================] - 10s 194us/step - loss: 1.4501 - accuracy: 0.4915 - val_loss: 1.5870 - val_accuracy: 0.4479\n",
      "Epoch 7/20\n",
      "50000/50000 [==============================] - 10s 191us/step - loss: 1.4098 - accuracy: 0.5075 - val_loss: 1.5616 - val_accuracy: 0.4537\n",
      "Epoch 8/20\n",
      "50000/50000 [==============================] - 9s 189us/step - loss: 1.3742 - accuracy: 0.5192 - val_loss: 1.5300 - val_accuracy: 0.4587\n",
      "Epoch 9/20\n",
      "50000/50000 [==============================] - 10s 196us/step - loss: 1.3430 - accuracy: 0.5323 - val_loss: 1.5050 - val_accuracy: 0.4726\n",
      "Epoch 10/20\n",
      "50000/50000 [==============================] - 10s 196us/step - loss: 1.3136 - accuracy: 0.5422 - val_loss: 1.4944 - val_accuracy: 0.4658\n",
      "Epoch 11/20\n",
      "50000/50000 [==============================] - 10s 190us/step - loss: 1.2833 - accuracy: 0.5556 - val_loss: 1.4755 - val_accuracy: 0.4817\n",
      "Epoch 12/20\n",
      "50000/50000 [==============================] - 9s 190us/step - loss: 1.2573 - accuracy: 0.5655 - val_loss: 1.4774 - val_accuracy: 0.4816\n",
      "Epoch 13/20\n",
      "50000/50000 [==============================] - 9s 189us/step - loss: 1.2331 - accuracy: 0.5746 - val_loss: 1.4675 - val_accuracy: 0.4851\n",
      "Epoch 14/20\n",
      "50000/50000 [==============================] - 9s 189us/step - loss: 1.2080 - accuracy: 0.5816 - val_loss: 1.4677 - val_accuracy: 0.4867\n",
      "Epoch 15/20\n",
      "50000/50000 [==============================] - 10s 196us/step - loss: 1.1834 - accuracy: 0.5916 - val_loss: 1.4712 - val_accuracy: 0.4827\n",
      "Epoch 16/20\n",
      "50000/50000 [==============================] - 10s 190us/step - loss: 1.1613 - accuracy: 0.5979 - val_loss: 1.4609 - val_accuracy: 0.4908\n",
      "Epoch 17/20\n",
      "50000/50000 [==============================] - 10s 193us/step - loss: 1.1383 - accuracy: 0.6100 - val_loss: 1.4540 - val_accuracy: 0.4912\n",
      "Epoch 18/20\n",
      "50000/50000 [==============================] - 10s 192us/step - loss: 1.1135 - accuracy: 0.6184 - val_loss: 1.4495 - val_accuracy: 0.4933\n",
      "Epoch 19/20\n",
      "50000/50000 [==============================] - 10s 199us/step - loss: 1.0919 - accuracy: 0.6255 - val_loss: 1.4529 - val_accuracy: 0.4954\n",
      "Epoch 20/20\n",
      "50000/50000 [==============================] - 10s 198us/step - loss: 1.0681 - accuracy: 0.6365 - val_loss: 1.4496 - val_accuracy: 0.4926\n"
     ]
    }
   ],
   "source": [
    "model = build_mlp(input_shape=x_train.shape[1:])\n",
    "model.summary()\n",
    "optimizer = keras.optimizers.SGD(lr=LEARNING_RATE, nesterov=True, momentum=MOMENTUM)\n",
    "model.compile(loss=\"categorical_crossentropy\", metrics=[\"accuracy\"], optimizer=optimizer)\n",
    "\n",
    "\"\"\"Code Here\n",
    "將 callbacks 放入模型訓練流程中\n",
    "\"\"\"\n",
    "model.fit(x_train, y_train, \n",
    "          epochs=EPOCHS, \n",
    "          batch_size=BATCH_SIZE, \n",
    "          validation_data=(x_test, y_test), \n",
    "          shuffle=True,\n",
    "          callbacks=[rec_tptn])\n",
    "\n",
    "# Collect results\n",
    "train_loss = model.history.history[\"loss\"]\n",
    "valid_loss = model.history.history[\"val_loss\"]\n",
    "train_acc = model.history.history[\"accuracy\"]\n",
    "valid_acc = model.history.history[\"val_accuracy\"]\n",
    "\n",
    "\"\"\"Code Here\n",
    "將 tp/tn 從訓練完的模型中取出\n",
    "\"\"\"\n",
    "valid_tp = model.history.history['val_tp']\n",
    "valid_tn = model.history.history['val_tn']"
   ]
  },
  {
   "cell_type": "code",
   "execution_count": 25,
   "metadata": {},
   "outputs": [
    {
     "data": {
      "image/png": "[encoded data removed]",
      "text/plain": [
       "<Figure size 432x288 with 1 Axes>"
      ]
     },
     "metadata": {
      "needs_background": "light"
     },
     "output_type": "display_data"
    },
    {
     "data": {
      "image/png": "[encoded data removed]",
      "text/plain": [
       "<Figure size 432x288 with 1 Axes>"
      ]
     },
     "metadata": {
      "needs_background": "light"
     },
     "output_type": "display_data"
    },
    {
     "data": {
      "image/png": "[encoded data removed]",
      "text/plain": [
       "<Figure size 432x288 with 1 Axes>"
      ]
     },
     "metadata": {
      "needs_background": "light"
     },
     "output_type": "display_data"
    }
   ],
   "source": [
    "import matplotlib.pyplot as plt\n",
    "%matplotlib inline\n",
    "\n",
    "plt.plot(range(len(train_loss)), train_loss, label=\"train loss\")\n",
    "plt.plot(range(len(valid_loss)), valid_loss, label=\"valid loss\")\n",
    "plt.legend()\n",
    "plt.title(\"Loss\")\n",
    "plt.show()\n",
    "\n",
    "plt.plot(range(len(train_acc)), train_acc, label=\"train accuracy\")\n",
    "plt.plot(range(len(valid_acc)), valid_acc, label=\"valid accuracy\")\n",
    "plt.legend()\n",
    "plt.title(\"Accuracy\")\n",
    "plt.show()\n",
    "\n",
    "plt.plot(range(len(valid_tp)), valid_tp, label=\"valid tp\", color=\"navy\")\n",
    "plt.plot(range(len(valid_tn)), valid_tn, label=\"valid tn\", color=\"red\")\n",
    "plt.legend()\n",
    "plt.title(\"True positives and True Negatives\")\n",
    "plt.show()\n"
   ]
  },
  {
   "cell_type": "code",
   "execution_count": null,
   "metadata": {},
   "outputs": [],
   "source": []
  }
 ],
 "metadata": {
  "kernelspec": {
   "display_name": "Python 3",
   "language": "python",
   "name": "python3"
  },
  "language_info": {
   "codemirror_mode": {
    "name": "ipython",
    "version": 3
   },
   "file_extension": ".py",
   "mimetype": "text/x-python",
   "name": "python",
   "nbconvert_exporter": "python",
   "pygments_lexer": "ipython3",
   "version": "3.6.7"
  }
 },
 "nbformat": 4,
 "nbformat_minor": 2
}
