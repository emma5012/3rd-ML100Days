{
 "cells": [
  {
   "cell_type": "markdown",
   "metadata": {},
   "source": [
    "## Work\n",
    "1. 請嘗試將 preproc_x 替換成以每筆資料的 min/max 進行標準化至 -1 ~ 1 間，再進行訓練\n",
    "2. 請嘗試將 mlp 疊更深 (e.g 5~10 層)，進行訓練後觀察 learning curve 的走勢\n",
    "3. (optional) 請改用 GPU 進行訓練 (如果你有 GPU 的話)，比較使用 CPU 與 GPU 的訓練速度"
   ]
  },
  {
   "cell_type": "code",
   "execution_count": 1,
   "metadata": {},
   "outputs": [
    {
     "name": "stderr",
     "output_type": "stream",
     "text": [
      "Using TensorFlow backend.\n",
      "C:\\Users\\admin\\Anaconda3\\envs\\tf\\lib\\site-packages\\tensorflow\\python\\framework\\dtypes.py:526: FutureWarning: Passing (type, 1) or '1type' as a synonym of type is deprecated; in a future version of numpy, it will be understood as (type, (1,)) / '(1,)type'.\n",
      "  _np_qint8 = np.dtype([(\"qint8\", np.int8, 1)])\n",
      "C:\\Users\\admin\\Anaconda3\\envs\\tf\\lib\\site-packages\\tensorflow\\python\\framework\\dtypes.py:527: FutureWarning: Passing (type, 1) or '1type' as a synonym of type is deprecated; in a future version of numpy, it will be understood as (type, (1,)) / '(1,)type'.\n",
      "  _np_quint8 = np.dtype([(\"quint8\", np.uint8, 1)])\n",
      "C:\\Users\\admin\\Anaconda3\\envs\\tf\\lib\\site-packages\\tensorflow\\python\\framework\\dtypes.py:528: FutureWarning: Passing (type, 1) or '1type' as a synonym of type is deprecated; in a future version of numpy, it will be understood as (type, (1,)) / '(1,)type'.\n",
      "  _np_qint16 = np.dtype([(\"qint16\", np.int16, 1)])\n",
      "C:\\Users\\admin\\Anaconda3\\envs\\tf\\lib\\site-packages\\tensorflow\\python\\framework\\dtypes.py:529: FutureWarning: Passing (type, 1) or '1type' as a synonym of type is deprecated; in a future version of numpy, it will be understood as (type, (1,)) / '(1,)type'.\n",
      "  _np_quint16 = np.dtype([(\"quint16\", np.uint16, 1)])\n",
      "C:\\Users\\admin\\Anaconda3\\envs\\tf\\lib\\site-packages\\tensorflow\\python\\framework\\dtypes.py:530: FutureWarning: Passing (type, 1) or '1type' as a synonym of type is deprecated; in a future version of numpy, it will be understood as (type, (1,)) / '(1,)type'.\n",
      "  _np_qint32 = np.dtype([(\"qint32\", np.int32, 1)])\n",
      "C:\\Users\\admin\\Anaconda3\\envs\\tf\\lib\\site-packages\\tensorflow\\python\\framework\\dtypes.py:535: FutureWarning: Passing (type, 1) or '1type' as a synonym of type is deprecated; in a future version of numpy, it will be understood as (type, (1,)) / '(1,)type'.\n",
      "  np_resource = np.dtype([(\"resource\", np.ubyte, 1)])\n"
     ]
    }
   ],
   "source": [
    "import os\n",
    "import keras\n",
    "\n",
    "# 請嘗試設定 GPU：os.environ"
   ]
  },
  {
   "cell_type": "code",
   "execution_count": 4,
   "metadata": {},
   "outputs": [],
   "source": [
    "train, test = keras.datasets.cifar10.load_data()"
   ]
  },
  {
   "cell_type": "code",
   "execution_count": 7,
   "metadata": {},
   "outputs": [],
   "source": [
    "## 資料前處理\n",
    "\"\"\"\n",
    "Your code here\n",
    "\"\"\"\n",
    "# feature scaling -1~1\n",
    "def preproc_x(x, flatten=True):\n",
    "    x = (x / 255)*2-1\n",
    "    if flatten:\n",
    "        x = x.reshape((len(x), -1))\n",
    "    return x\n",
    "\n",
    "def preproc_y(y, num_classes=10):\n",
    "    if y.shape[-1] == 1:\n",
    "        y = keras.utils.to_categorical(y, num_classes)\n",
    "    return y "
   ]
  },
  {
   "cell_type": "code",
   "execution_count": 8,
   "metadata": {},
   "outputs": [],
   "source": [
    "x_train, y_train = train\n",
    "x_test, y_test = test\n",
    "\n",
    "# Preprocessing the inputs\n",
    "x_train = preproc_x(x_train)\n",
    "x_test = preproc_x(x_test)\n",
    "\n",
    "# Preprocessing the outputs\n",
    "y_train = preproc_y(y_train)\n",
    "y_test = preproc_y(y_test)"
   ]
  },
  {
   "cell_type": "code",
   "execution_count": 9,
   "metadata": {},
   "outputs": [
    {
     "name": "stdout",
     "output_type": "stream",
     "text": [
      "WARNING:tensorflow:From C:\\Users\\admin\\Anaconda3\\envs\\tf\\lib\\site-packages\\tensorflow\\python\\ops\\resource_variable_ops.py:435: colocate_with (from tensorflow.python.framework.ops) is deprecated and will be removed in a future version.\n",
      "Instructions for updating:\n",
      "Colocations handled automatically by placer.\n",
      "Model: \"model_1\"\n",
      "_________________________________________________________________\n",
      "Layer (type)                 Output Shape              Param #   \n",
      "=================================================================\n",
      "input_1 (InputLayer)         (None, 3072)              0         \n",
      "_________________________________________________________________\n",
      "hidden_layer1 (Dense)        (None, 512)               1573376   \n",
      "_________________________________________________________________\n",
      "hidden_layer2 (Dense)        (None, 256)               131328    \n",
      "_________________________________________________________________\n",
      "hidden_layer3 (Dense)        (None, 256)               65792     \n",
      "_________________________________________________________________\n",
      "hidden_layer4 (Dense)        (None, 128)               32896     \n",
      "_________________________________________________________________\n",
      "hidden_layer5 (Dense)        (None, 64)                8256      \n",
      "_________________________________________________________________\n",
      "hidden_layer6 (Dense)        (None, 32)                2080      \n",
      "_________________________________________________________________\n",
      "output (Dense)               (None, 10)                330       \n",
      "=================================================================\n",
      "Total params: 1,814,058\n",
      "Trainable params: 1,814,058\n",
      "Non-trainable params: 0\n",
      "_________________________________________________________________\n"
     ]
    }
   ],
   "source": [
    "\"\"\"Code Here\n",
    "建立你的神經網路\n",
    "\"\"\"\n",
    "def build_mlp(input_shape, output_units=10, num_neurons=[512,256,256,128,64,32]):\n",
    "    input_layer = keras.layers.Input(input_shape)\n",
    "    \n",
    "    for i, n_units in enumerate(num_neurons):\n",
    "        if i == 0:\n",
    "            x = keras.layers.Dense(units=n_units, activation=\"relu\", name=\"hidden_layer\"+str(i+1))(input_layer)\n",
    "        else:\n",
    "            x = keras.layers.Dense(units=n_units, activation=\"relu\", name=\"hidden_layer\"+str(i+1))(x)\n",
    "    \n",
    "    out = keras.layers.Dense(units=output_units, activation=\"softmax\", name=\"output\")(x)\n",
    "    \n",
    "    model = keras.models.Model(inputs=[input_layer], outputs=[out])\n",
    "    return model\n",
    "\n",
    "model = build_mlp(input_shape=x_train.shape[1:])\n",
    "model.summary()"
   ]
  },
  {
   "cell_type": "code",
   "execution_count": 10,
   "metadata": {},
   "outputs": [],
   "source": [
    "## 超參數設定\n",
    "LEARNING_RATE = 0.001\n",
    "EPOCHS = 100\n",
    "BATCH_SIZE = 256"
   ]
  },
  {
   "cell_type": "code",
   "execution_count": 11,
   "metadata": {},
   "outputs": [],
   "source": [
    "optimizer = keras.optimizers.Adam(lr=LEARNING_RATE)\n",
    "model.compile(loss=\"categorical_crossentropy\", metrics=[\"accuracy\"], optimizer=optimizer)"
   ]
  },
  {
   "cell_type": "code",
   "execution_count": 12,
   "metadata": {},
   "outputs": [
    {
     "name": "stdout",
     "output_type": "stream",
     "text": [
      "WARNING:tensorflow:From C:\\Users\\admin\\Anaconda3\\envs\\tf\\lib\\site-packages\\tensorflow\\python\\ops\\math_ops.py:3066: to_int32 (from tensorflow.python.ops.math_ops) is deprecated and will be removed in a future version.\n",
      "Instructions for updating:\n",
      "Use tf.cast instead.\n",
      "Train on 50000 samples, validate on 10000 samples\n",
      "Epoch 1/100\n",
      "50000/50000 [==============================] - 18s 369us/step - loss: 1.7410 - accuracy: 0.3812 - val_loss: 1.5984 - val_accuracy: 0.4326\n",
      "Epoch 2/100\n",
      "50000/50000 [==============================] - 14s 285us/step - loss: 1.5022 - accuracy: 0.4691 - val_loss: 1.4702 - val_accuracy: 0.4837\n",
      "Epoch 3/100\n",
      "50000/50000 [==============================] - 14s 281us/step - loss: 1.3772 - accuracy: 0.5142 - val_loss: 1.3995 - val_accuracy: 0.5071\n",
      "Epoch 4/100\n",
      "50000/50000 [==============================] - 14s 281us/step - loss: 1.2742 - accuracy: 0.5516 - val_loss: 1.3833 - val_accuracy: 0.5204\n",
      "Epoch 5/100\n",
      "50000/50000 [==============================] - 14s 281us/step - loss: 1.1966 - accuracy: 0.5798 - val_loss: 1.3570 - val_accuracy: 0.5284\n",
      "Epoch 6/100\n",
      "50000/50000 [==============================] - 14s 281us/step - loss: 1.1131 - accuracy: 0.6077 - val_loss: 1.3578 - val_accuracy: 0.5337\n",
      "Epoch 7/100\n",
      "50000/50000 [==============================] - 18s 350us/step - loss: 1.0300 - accuracy: 0.6358 - val_loss: 1.3713 - val_accuracy: 0.5370\n",
      "Epoch 8/100\n",
      "50000/50000 [==============================] - 14s 281us/step - loss: 0.9606 - accuracy: 0.6615 - val_loss: 1.4025 - val_accuracy: 0.5296\n",
      "Epoch 9/100\n",
      "50000/50000 [==============================] - 14s 281us/step - loss: 0.8875 - accuracy: 0.6868 - val_loss: 1.4532 - val_accuracy: 0.5310\n",
      "Epoch 10/100\n",
      "50000/50000 [==============================] - 14s 284us/step - loss: 0.8132 - accuracy: 0.7110 - val_loss: 1.5041 - val_accuracy: 0.5283\n",
      "Epoch 11/100\n",
      "50000/50000 [==============================] - 14s 281us/step - loss: 0.7514 - accuracy: 0.7336 - val_loss: 1.5332 - val_accuracy: 0.5327\n",
      "Epoch 12/100\n",
      "50000/50000 [==============================] - 14s 281us/step - loss: 0.6858 - accuracy: 0.7587 - val_loss: 1.6193 - val_accuracy: 0.5322\n",
      "Epoch 13/100\n",
      "50000/50000 [==============================] - 14s 282us/step - loss: 0.6201 - accuracy: 0.7799 - val_loss: 1.6237 - val_accuracy: 0.5333\n",
      "Epoch 14/100\n",
      "50000/50000 [==============================] - 14s 281us/step - loss: 0.5610 - accuracy: 0.8013 - val_loss: 1.7548 - val_accuracy: 0.5328\n",
      "Epoch 15/100\n",
      "50000/50000 [==============================] - 14s 283us/step - loss: 0.5188 - accuracy: 0.8159 - val_loss: 1.7327 - val_accuracy: 0.5259\n",
      "Epoch 16/100\n",
      "50000/50000 [==============================] - 14s 282us/step - loss: 0.4657 - accuracy: 0.8356 - val_loss: 1.8993 - val_accuracy: 0.5353\n",
      "Epoch 17/100\n",
      "50000/50000 [==============================] - 14s 284us/step - loss: 0.4382 - accuracy: 0.8465 - val_loss: 1.9483 - val_accuracy: 0.5309\n",
      "Epoch 18/100\n",
      "50000/50000 [==============================] - 14s 285us/step - loss: 0.3965 - accuracy: 0.8614 - val_loss: 2.0781 - val_accuracy: 0.5309\n",
      "Epoch 19/100\n",
      "50000/50000 [==============================] - 15s 301us/step - loss: 0.3658 - accuracy: 0.8718 - val_loss: 2.1048 - val_accuracy: 0.5324\n",
      "Epoch 20/100\n",
      "50000/50000 [==============================] - 14s 284us/step - loss: 0.3339 - accuracy: 0.8827 - val_loss: 2.2737 - val_accuracy: 0.5243\n",
      "Epoch 21/100\n",
      "50000/50000 [==============================] - 13s 267us/step - loss: 0.3031 - accuracy: 0.8945 - val_loss: 2.4447 - val_accuracy: 0.5221\n",
      "Epoch 22/100\n",
      "50000/50000 [==============================] - 14s 270us/step - loss: 0.2905 - accuracy: 0.8984 - val_loss: 2.4241 - val_accuracy: 0.5275\n",
      "Epoch 23/100\n",
      "50000/50000 [==============================] - 13s 267us/step - loss: 0.2682 - accuracy: 0.9060 - val_loss: 2.5437 - val_accuracy: 0.5263\n",
      "Epoch 24/100\n",
      "50000/50000 [==============================] - 13s 265us/step - loss: 0.2537 - accuracy: 0.9130 - val_loss: 2.6517 - val_accuracy: 0.5313\n",
      "Epoch 25/100\n",
      "50000/50000 [==============================] - 13s 264us/step - loss: 0.2536 - accuracy: 0.9120 - val_loss: 2.5735 - val_accuracy: 0.5324\n",
      "Epoch 26/100\n",
      "50000/50000 [==============================] - 13s 266us/step - loss: 0.2284 - accuracy: 0.9218 - val_loss: 2.6513 - val_accuracy: 0.5307\n",
      "Epoch 27/100\n",
      "50000/50000 [==============================] - 19s 373us/step - loss: 0.2131 - accuracy: 0.9260 - val_loss: 2.6841 - val_accuracy: 0.5313\n",
      "Epoch 28/100\n",
      "50000/50000 [==============================] - 14s 277us/step - loss: 0.1979 - accuracy: 0.9317 - val_loss: 2.7528 - val_accuracy: 0.5255\n",
      "Epoch 29/100\n",
      "50000/50000 [==============================] - 14s 271us/step - loss: 0.2003 - accuracy: 0.9319 - val_loss: 2.8384 - val_accuracy: 0.5327\n",
      "Epoch 30/100\n",
      "50000/50000 [==============================] - 13s 267us/step - loss: 0.1816 - accuracy: 0.9368 - val_loss: 2.9130 - val_accuracy: 0.5316\n",
      "Epoch 31/100\n",
      "50000/50000 [==============================] - 13s 267us/step - loss: 0.1946 - accuracy: 0.9336 - val_loss: 2.8969 - val_accuracy: 0.5276\n",
      "Epoch 32/100\n",
      "50000/50000 [==============================] - 13s 265us/step - loss: 0.1721 - accuracy: 0.9419 - val_loss: 2.9866 - val_accuracy: 0.5273\n",
      "Epoch 33/100\n",
      "50000/50000 [==============================] - 14s 280us/step - loss: 0.1713 - accuracy: 0.9418 - val_loss: 2.9497 - val_accuracy: 0.5217\n",
      "Epoch 34/100\n",
      "50000/50000 [==============================] - 14s 278us/step - loss: 0.1521 - accuracy: 0.9478 - val_loss: 3.0018 - val_accuracy: 0.5227\n",
      "Epoch 35/100\n",
      "50000/50000 [==============================] - 13s 269us/step - loss: 0.1761 - accuracy: 0.9400 - val_loss: 3.1414 - val_accuracy: 0.5212\n",
      "Epoch 36/100\n",
      "50000/50000 [==============================] - 14s 275us/step - loss: 0.1366 - accuracy: 0.9542 - val_loss: 3.2549 - val_accuracy: 0.5291\n",
      "Epoch 37/100\n",
      "50000/50000 [==============================] - 15s 290us/step - loss: 0.1590 - accuracy: 0.9461 - val_loss: 3.1662 - val_accuracy: 0.5284\n",
      "Epoch 38/100\n",
      "50000/50000 [==============================] - 15s 300us/step - loss: 0.1572 - accuracy: 0.9472 - val_loss: 3.2790 - val_accuracy: 0.5287\n",
      "Epoch 39/100\n",
      "50000/50000 [==============================] - 15s 305us/step - loss: 0.1347 - accuracy: 0.9542 - val_loss: 3.3068 - val_accuracy: 0.5267\n",
      "Epoch 40/100\n",
      "50000/50000 [==============================] - 18s 356us/step - loss: 0.1315 - accuracy: 0.9554 - val_loss: 3.2784 - val_accuracy: 0.5156\n",
      "Epoch 41/100\n",
      "50000/50000 [==============================] - 23s 451us/step - loss: 0.1352 - accuracy: 0.9539 - val_loss: 3.2508 - val_accuracy: 0.5304\n",
      "Epoch 42/100\n",
      "50000/50000 [==============================] - 16s 315us/step - loss: 0.1217 - accuracy: 0.9593 - val_loss: 3.4007 - val_accuracy: 0.5318\n",
      "Epoch 43/100\n",
      "50000/50000 [==============================] - 15s 303us/step - loss: 0.1318 - accuracy: 0.9557 - val_loss: 3.3213 - val_accuracy: 0.5330\n",
      "Epoch 44/100\n",
      "50000/50000 [==============================] - 15s 294us/step - loss: 0.1333 - accuracy: 0.9543 - val_loss: 3.3222 - val_accuracy: 0.5376\n",
      "Epoch 45/100\n",
      "50000/50000 [==============================] - 15s 301us/step - loss: 0.1195 - accuracy: 0.9601 - val_loss: 3.3834 - val_accuracy: 0.5291\n",
      "Epoch 46/100\n",
      "50000/50000 [==============================] - 15s 304us/step - loss: 0.1171 - accuracy: 0.9607 - val_loss: 3.3969 - val_accuracy: 0.5329\n",
      "Epoch 47/100\n",
      "50000/50000 [==============================] - 14s 281us/step - loss: 0.1317 - accuracy: 0.9577 - val_loss: 3.1753 - val_accuracy: 0.5327\n",
      "Epoch 48/100\n",
      "50000/50000 [==============================] - 19s 379us/step - loss: 0.1000 - accuracy: 0.9668 - val_loss: 3.3982 - val_accuracy: 0.5335\n",
      "Epoch 49/100\n",
      "50000/50000 [==============================] - 14s 285us/step - loss: 0.1039 - accuracy: 0.9662 - val_loss: 3.5243 - val_accuracy: 0.5290\n",
      "Epoch 50/100\n",
      "50000/50000 [==============================] - 15s 295us/step - loss: 0.1203 - accuracy: 0.9602 - val_loss: 3.4931 - val_accuracy: 0.5283\n",
      "Epoch 51/100\n",
      "50000/50000 [==============================] - 18s 352us/step - loss: 0.1301 - accuracy: 0.9567 - val_loss: 3.3911 - val_accuracy: 0.5331\n",
      "Epoch 52/100\n",
      "50000/50000 [==============================] - 15s 306us/step - loss: 0.1059 - accuracy: 0.9646 - val_loss: 3.3890 - val_accuracy: 0.5248\n",
      "Epoch 53/100\n"
     ]
    },
    {
     "name": "stdout",
     "output_type": "stream",
     "text": [
      "50000/50000 [==============================] - 15s 308us/step - loss: 0.1034 - accuracy: 0.9656 - val_loss: 3.4102 - val_accuracy: 0.5350\n",
      "Epoch 54/100\n",
      "50000/50000 [==============================] - 14s 283us/step - loss: 0.0990 - accuracy: 0.9672 - val_loss: 3.5154 - val_accuracy: 0.5319\n",
      "Epoch 55/100\n",
      "50000/50000 [==============================] - 16s 314us/step - loss: 0.1022 - accuracy: 0.9670 - val_loss: 3.5268 - val_accuracy: 0.5261\n",
      "Epoch 56/100\n",
      "50000/50000 [==============================] - 15s 302us/step - loss: 0.1015 - accuracy: 0.9672 - val_loss: 3.5291 - val_accuracy: 0.5230\n",
      "Epoch 57/100\n",
      "50000/50000 [==============================] - 14s 286us/step - loss: 0.1035 - accuracy: 0.9661 - val_loss: 3.3788 - val_accuracy: 0.5299\n",
      "Epoch 58/100\n",
      "50000/50000 [==============================] - 16s 314us/step - loss: 0.1076 - accuracy: 0.9640 - val_loss: 3.3269 - val_accuracy: 0.5246\n",
      "Epoch 59/100\n",
      "50000/50000 [==============================] - 14s 276us/step - loss: 0.0848 - accuracy: 0.9723 - val_loss: 3.5438 - val_accuracy: 0.5259\n",
      "Epoch 60/100\n",
      "50000/50000 [==============================] - 14s 281us/step - loss: 0.0936 - accuracy: 0.9694 - val_loss: 3.5767 - val_accuracy: 0.5300\n",
      "Epoch 61/100\n",
      "50000/50000 [==============================] - 14s 282us/step - loss: 0.0932 - accuracy: 0.9697 - val_loss: 3.6836 - val_accuracy: 0.5323\n",
      "Epoch 62/100\n",
      "50000/50000 [==============================] - 15s 295us/step - loss: 0.0965 - accuracy: 0.9683 - val_loss: 3.6174 - val_accuracy: 0.5271\n",
      "Epoch 63/100\n",
      "50000/50000 [==============================] - 15s 305us/step - loss: 0.1014 - accuracy: 0.9673 - val_loss: 3.4641 - val_accuracy: 0.5295\n",
      "Epoch 64/100\n",
      "50000/50000 [==============================] - 14s 290us/step - loss: 0.0838 - accuracy: 0.9708 - val_loss: 3.6292 - val_accuracy: 0.5233\n",
      "Epoch 65/100\n",
      "50000/50000 [==============================] - 15s 306us/step - loss: 0.0911 - accuracy: 0.9701 - val_loss: 3.5156 - val_accuracy: 0.5348\n",
      "Epoch 66/100\n",
      "50000/50000 [==============================] - 19s 390us/step - loss: 0.0801 - accuracy: 0.9738 - val_loss: 3.6671 - val_accuracy: 0.5332\n",
      "Epoch 67/100\n",
      "50000/50000 [==============================] - 15s 302us/step - loss: 0.0994 - accuracy: 0.9680 - val_loss: 3.5649 - val_accuracy: 0.5202\n",
      "Epoch 68/100\n",
      "50000/50000 [==============================] - 15s 290us/step - loss: 0.0929 - accuracy: 0.9697 - val_loss: 3.5198 - val_accuracy: 0.5385\n",
      "Epoch 69/100\n",
      "50000/50000 [==============================] - 14s 283us/step - loss: 0.0730 - accuracy: 0.9765 - val_loss: 3.6570 - val_accuracy: 0.5369\n",
      "Epoch 70/100\n",
      "50000/50000 [==============================] - 15s 291us/step - loss: 0.0760 - accuracy: 0.9756 - val_loss: 3.8864 - val_accuracy: 0.5278\n",
      "Epoch 71/100\n",
      "50000/50000 [==============================] - 15s 300us/step - loss: 0.0979 - accuracy: 0.9688 - val_loss: 3.5733 - val_accuracy: 0.5405\n",
      "Epoch 72/100\n",
      "50000/50000 [==============================] - 15s 292us/step - loss: 0.0811 - accuracy: 0.9736 - val_loss: 3.5883 - val_accuracy: 0.5286\n",
      "Epoch 73/100\n",
      "50000/50000 [==============================] - 15s 302us/step - loss: 0.0807 - accuracy: 0.9731 - val_loss: 3.6588 - val_accuracy: 0.5317\n",
      "Epoch 74/100\n",
      "50000/50000 [==============================] - 14s 286us/step - loss: 0.0650 - accuracy: 0.9793 - val_loss: 3.7281 - val_accuracy: 0.5343\n",
      "Epoch 75/100\n",
      "50000/50000 [==============================] - 15s 293us/step - loss: 0.0734 - accuracy: 0.9762 - val_loss: 3.7319 - val_accuracy: 0.5306\n",
      "Epoch 76/100\n",
      "50000/50000 [==============================] - 19s 380us/step - loss: 0.1001 - accuracy: 0.9672 - val_loss: 3.6929 - val_accuracy: 0.5196\n",
      "Epoch 77/100\n",
      "50000/50000 [==============================] - 15s 308us/step - loss: 0.0816 - accuracy: 0.9737 - val_loss: 3.7055 - val_accuracy: 0.5255\n",
      "Epoch 78/100\n",
      "50000/50000 [==============================] - 14s 288us/step - loss: 0.0713 - accuracy: 0.9783 - val_loss: 3.7037 - val_accuracy: 0.5282\n",
      "Epoch 79/100\n",
      "50000/50000 [==============================] - 15s 308us/step - loss: 0.0865 - accuracy: 0.9729 - val_loss: 3.6414 - val_accuracy: 0.5251\n",
      "Epoch 80/100\n",
      "50000/50000 [==============================] - 15s 301us/step - loss: 0.0715 - accuracy: 0.9771 - val_loss: 3.6117 - val_accuracy: 0.5296\n",
      "Epoch 81/100\n",
      "50000/50000 [==============================] - 15s 295us/step - loss: 0.0798 - accuracy: 0.9740 - val_loss: 3.6420 - val_accuracy: 0.5403\n",
      "Epoch 82/100\n",
      "50000/50000 [==============================] - 18s 360us/step - loss: 0.0595 - accuracy: 0.9811 - val_loss: 3.7066 - val_accuracy: 0.5313\n",
      "Epoch 83/100\n",
      "50000/50000 [==============================] - 15s 298us/step - loss: 0.0643 - accuracy: 0.9783 - val_loss: 3.6468 - val_accuracy: 0.5352\n",
      "Epoch 84/100\n",
      "50000/50000 [==============================] - 15s 297us/step - loss: 0.0665 - accuracy: 0.9783 - val_loss: 3.7967 - val_accuracy: 0.5322\n",
      "Epoch 85/100\n",
      "50000/50000 [==============================] - 14s 275us/step - loss: 0.0723 - accuracy: 0.9762 - val_loss: 3.8935 - val_accuracy: 0.5190\n",
      "Epoch 86/100\n",
      "50000/50000 [==============================] - 15s 299us/step - loss: 0.0789 - accuracy: 0.9757 - val_loss: 3.7857 - val_accuracy: 0.5284\n",
      "Epoch 87/100\n",
      "50000/50000 [==============================] - 15s 300us/step - loss: 0.0681 - accuracy: 0.9783 - val_loss: 3.6758 - val_accuracy: 0.5321\n",
      "Epoch 88/100\n",
      "50000/50000 [==============================] - 15s 298us/step - loss: 0.0700 - accuracy: 0.9770 - val_loss: 3.6771 - val_accuracy: 0.5252\n",
      "Epoch 89/100\n",
      "50000/50000 [==============================] - 18s 370us/step - loss: 0.0685 - accuracy: 0.9783 - val_loss: 3.7856 - val_accuracy: 0.5349\n",
      "Epoch 90/100\n",
      "50000/50000 [==============================] - 16s 323us/step - loss: 0.0604 - accuracy: 0.9804 - val_loss: 3.8198 - val_accuracy: 0.5222\n",
      "Epoch 91/100\n",
      "50000/50000 [==============================] - 15s 301us/step - loss: 0.0723 - accuracy: 0.9775 - val_loss: 3.5318 - val_accuracy: 0.5404\n",
      "Epoch 92/100\n",
      "50000/50000 [==============================] - 15s 298us/step - loss: 0.0489 - accuracy: 0.9838 - val_loss: 3.7863 - val_accuracy: 0.5346\n",
      "Epoch 93/100\n",
      "50000/50000 [==============================] - 14s 289us/step - loss: 0.0647 - accuracy: 0.9796 - val_loss: 3.6874 - val_accuracy: 0.5280\n",
      "Epoch 94/100\n",
      "50000/50000 [==============================] - 20s 409us/step - loss: 0.0801 - accuracy: 0.9742 - val_loss: 3.7434 - val_accuracy: 0.5279\n",
      "Epoch 95/100\n",
      "50000/50000 [==============================] - 17s 330us/step - loss: 0.0689 - accuracy: 0.9774 - val_loss: 3.8182 - val_accuracy: 0.5293\n",
      "Epoch 96/100\n",
      "50000/50000 [==============================] - 15s 307us/step - loss: 0.0660 - accuracy: 0.9788 - val_loss: 3.8841 - val_accuracy: 0.5288\n",
      "Epoch 97/100\n",
      "50000/50000 [==============================] - 14s 288us/step - loss: 0.0526 - accuracy: 0.9832 - val_loss: 3.7472 - val_accuracy: 0.5306\n",
      "Epoch 98/100\n",
      "50000/50000 [==============================] - 14s 289us/step - loss: 0.0582 - accuracy: 0.9814 - val_loss: 3.7582 - val_accuracy: 0.5310\n",
      "Epoch 99/100\n",
      "50000/50000 [==============================] - 15s 297us/step - loss: 0.0579 - accuracy: 0.9821 - val_loss: 3.8496 - val_accuracy: 0.5325\n",
      "Epoch 100/100\n",
      "50000/50000 [==============================] - 16s 318us/step - loss: 0.0694 - accuracy: 0.9784 - val_loss: 3.8585 - val_accuracy: 0.5311\n"
     ]
    },
    {
     "data": {
      "text/plain": [
       "<keras.callbacks.callbacks.History at 0x25947626f28>"
      ]
     },
     "execution_count": 12,
     "metadata": {},
     "output_type": "execute_result"
    }
   ],
   "source": [
    "model.fit(x_train, y_train, \n",
    "          epochs=EPOCHS, \n",
    "          batch_size=BATCH_SIZE, \n",
    "          validation_data=(x_test, y_test), \n",
    "          shuffle=True)"
   ]
  },
  {
   "cell_type": "code",
   "execution_count": 14,
   "metadata": {},
   "outputs": [
    {
     "data": {
      "image/png": "[encoded data removed]",
      "text/plain": [
       "<Figure size 432x288 with 1 Axes>"
      ]
     },
     "metadata": {
      "needs_background": "light"
     },
     "output_type": "display_data"
    },
    {
     "data": {
      "image/png": "[encoded data removed]",
      "text/plain": [
       "<Figure size 432x288 with 1 Axes>"
      ]
     },
     "metadata": {
      "needs_background": "light"
     },
     "output_type": "display_data"
    }
   ],
   "source": [
    "import matplotlib.pyplot as plt\n",
    "\n",
    "\n",
    "train_loss = model.history.history[\"loss\"]\n",
    "valid_loss = model.history.history[\"val_loss\"]\n",
    "\n",
    "train_acc = model.history.history[\"accuracy\"]\n",
    "valid_acc = model.history.history[\"val_accuracy\"]\n",
    "\n",
    "plt.plot(range(len(train_loss)), train_loss, label=\"train loss\")\n",
    "plt.plot(range(len(valid_loss)), valid_loss, label=\"valid loss\")\n",
    "plt.legend()\n",
    "plt.title(\"Loss\")\n",
    "plt.show()\n",
    "\n",
    "plt.plot(range(len(train_acc)), train_acc, label=\"train accuracy\")\n",
    "plt.plot(range(len(valid_acc)), valid_acc, label=\"valid accuracy\")\n",
    "plt.legend()\n",
    "plt.title(\"Accuracy\")\n",
    "plt.show()"
   ]
  },
  {
   "cell_type": "code",
   "execution_count": null,
   "metadata": {},
   "outputs": [],
   "source": []
  }
 ],
 "metadata": {
  "kernelspec": {
   "display_name": "Python 3",
   "language": "python",
   "name": "python3"
  },
  "language_info": {
   "codemirror_mode": {
    "name": "ipython",
    "version": 3
   },
   "file_extension": ".py",
   "mimetype": "text/x-python",
   "name": "python",
   "nbconvert_exporter": "python",
   "pygments_lexer": "ipython3",
   "version": "3.6.7"
  }
 },
 "nbformat": 4,
 "nbformat_minor": 2
}
