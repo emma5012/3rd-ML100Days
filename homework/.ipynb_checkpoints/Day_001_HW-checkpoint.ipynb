{
 "cells": [
  {
   "cell_type": "markdown",
   "metadata": {},
   "source": [
    "# [ 作業1 ]\n",
    "## 寫一個函式用來計算 Mean Square Error\n",
    "$ MSE = \\frac{1}{n}\\sum_{i=1}^{n}{(Y_i - \\hat{Y}_i)^2} $"
   ]
  },
  {
   "cell_type": "code",
   "execution_count": 110,
   "metadata": {},
   "outputs": [],
   "source": [
    "%matplotlib inline\n",
    "\n",
    "import numpy as np\n",
    "import matplotlib.pyplot as plt"
   ]
  },
  {
   "cell_type": "code",
   "execution_count": 115,
   "metadata": {},
   "outputs": [],
   "source": [
    "x = np.linspace(0,100,101)\n",
    "y = np.random.randn(101)   #rand正數 randn有正有負"
   ]
  },
  {
   "cell_type": "code",
   "execution_count": 116,
   "metadata": {},
   "outputs": [],
   "source": [
    "z = (x + 6*y)*3-8"
   ]
  },
  {
   "cell_type": "code",
   "execution_count": 117,
   "metadata": {},
   "outputs": [
    {
     "data": {
      "text/plain": [
       "[<matplotlib.lines.Line2D at 0x2749c0d0a20>]"
      ]
     },
     "execution_count": 117,
     "metadata": {},
     "output_type": "execute_result"
    },
    {
     "data": {
      "image/png": "[encoded data removed]",
      "text/plain": [
       "<Figure size 432x288 with 1 Axes>"
      ]
     },
     "metadata": {
      "needs_background": "light"
     },
     "output_type": "display_data"
    }
   ],
   "source": [
    "plt.plot(x,z,'b.',label = 'data')"
   ]
  },
  {
   "cell_type": "code",
   "execution_count": 122,
   "metadata": {},
   "outputs": [
    {
     "data": {
      "image/png": "[encoded data removed]",
      "text/plain": [
       "<Figure size 432x288 with 1 Axes>"
      ]
     },
     "metadata": {
      "needs_background": "light"
     },
     "output_type": "display_data"
    }
   ],
   "source": [
    "z1 = x*3-8\n",
    "plt.plot(x,z,'b.',label = 'data')\n",
    "plt.plot(x,z1,'r-',label = 'predition')\n",
    "plt.legend(loc=0) # loc=locatio / 0best, 2左上\n",
    "plt.show()"
   ]
  },
  {
   "cell_type": "code",
   "execution_count": 130,
   "metadata": {},
   "outputs": [],
   "source": [
    "def mean_absolute_error(y,yp):\n",
    "    mae = MAE = sum(abs(y-yp))/len(y)\n",
    "    return mae\n",
    "\n",
    "def mean_square_error(y,yp):\n",
    "    mse = MSE = sum((y-yp)**2)/len(y)   # 次方的計算用 ** 或是 math.power()\n",
    "    return mse\n",
    "    "
   ]
  },
  {
   "cell_type": "code",
   "execution_count": 131,
   "metadata": {},
   "outputs": [
    {
     "name": "stdout",
     "output_type": "stream",
     "text": [
      "The Mean Absolute Error is 13.519\n",
      "The Mean Square Error is 294.732\n"
     ]
    }
   ],
   "source": [
    "MAE = mean_absolute_error(z,z1)\n",
    "MSE = mean_square_error(z,z1)\n",
    "print(\"The Mean Absolute Error is %.3f\" % (MAE))\n",
    "print(\"The Mean Square Error is %.3f\" % (MSE))"
   ]
  },
  {
   "cell_type": "markdown",
   "metadata": {},
   "source": [
    "# [ 作業2 ]\n",
    "## 請上 Kaggle, 在 Competitions 或 Dataset 中找一組競賽\n"
   ]
  },
  {
   "cell_type": "markdown",
   "metadata": {},
   "source": [
    "### 1.你選的這組資料為何重要\n",
    "選的資料為：Quora Question Pairs | Can you identify question pairs that have the same intent?\n",
    "<br /> https://www.kaggle.com/c/quora-question-pairs/discussion/30363#latest-172666 <br />\n",
    "當人們遇到不會或不懂的事情，最快的方式就是上網查，因為是不熟悉的領域，要查的時候可能會不知道從何查起或是不知道適合的關鍵字有哪些，如果可以透過演算法找出某兩個問題是不是要問同樣的東西，可以讓找的人省下很多時間，也可以避免類似的問題一直被重複問，讓回答問題的人也省下了時間，所以我覺得這組資料很重要\n",
    "### 2.資料從何而來 (tips: 譬如提供者是誰、以什麼方式蒐集)\n",
    "資料由Quora提供，訓練資料集是人們在Quora網站詢問的真實問題，測試資料集除了真實的問題還加上了由電腦產生的問題(目的是避免作弊)\n",
    "### 3.蒐集而來的資料型態為何\n",
    "結構化資料，csv檔\n",
    "### 4.這組資料想解決的問題如何評估\n",
    "此問題為分類問題，結果為0或是1，可以用正確率來評估"
   ]
  },
  {
   "cell_type": "markdown",
   "metadata": {},
   "source": [
    "# [ 作業3 ]"
   ]
  },
  {
   "cell_type": "markdown",
   "metadata": {},
   "source": [
    "### 想像你經營一個自由載客車隊，希望能透過數據分析以提升業績，請思考並描述如何規劃整體的分析/解決方案:"
   ]
  },
  {
   "cell_type": "markdown",
   "metadata": {},
   "source": [
    "### 1. 核心問題為何 (tips：如何定義 「提升業績 & 你的假設」)\n",
    "假設行駛里程數、行駛時間和相對應價格已經是最佳化狀態，提升業績即增加載客率、降低空車率，核心問題為如何減少司機找乘客的時間\n",
    "### 2. 資料從何而來 (tips：哪些資料可能會對你想問的問題產生影響 & 資料如何蒐集)\n",
    "會影響問題的資料有時間、地點和天氣\n",
    "<br /> 時間：哪些時段乘客較多或少(白天乘客較多，半夜乘客較少)、平日還是假日\n",
    "<br /> 地點：哪些地區乘客較多、乘客的目的地為何<br /> \n",
    "天氣：雨天乘客較多<br />\n",
    "蒐集方法\n",
    "<br />(1)紀錄每個司機的載客時間、乘客上車和下車地點\n",
    "<br />(2)行事曆(平日、國定假日或是連續假期)\n",
    "<br />(3)氣象預報 \n",
    "### 3. 蒐集而來的資料型態為何\n",
    "(1)司機的載客時間和乘客上下車地點為非結構化資料\n",
    "<br />(2)行事曆為結構化資料\n",
    "<br />(3)各地區氣象預報為結構化表格資料\n",
    "### 4. 你要回答的問題，其如何評估 (tips：你的假設如何驗證)\n",
    "我認為問題屬於迴歸問題，要對不同地區的各個時段乘客的搭車需求做預測，可以使用RMSE評估預測結果好壞\n"
   ]
  }
 ],
 "metadata": {
  "kernelspec": {
   "display_name": "Python 3",
   "language": "python",
   "name": "python3"
  },
  "language_info": {
   "codemirror_mode": {
    "name": "ipython",
    "version": 3
   },
   "file_extension": ".py",
   "mimetype": "text/x-python",
   "name": "python",
   "nbconvert_exporter": "python",
   "pygments_lexer": "ipython3",
   "version": "3.6.6"
  }
 },
 "nbformat": 4,
 "nbformat_minor": 2
}
