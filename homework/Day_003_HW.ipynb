{
 "cells": [
  {
   "cell_type": "markdown",
   "metadata": {},
   "source": [
    "# [作業3]"
   ]
  },
  {
   "cell_type": "markdown",
   "metadata": {},
   "source": [
    "## 請至機器學習巨頭的 blog 參觀，試著閱讀一篇文章並分析 \n",
    "https://research.fb.com/blog/2018/06/translating-music-to-predict-a-musicians-body-movements/\n",
    "<br/>Translating music to predict a musician’s body movements\n",
    "### 作業 1：目標\n",
    "To create an animation of an avatar that moves its hands in the way a pianist or violinist would do, just by hearing the audio.\n",
    "### 作業 2：方法\n",
    "They built a Long-Short-Term-Memory (LSTM) neural network that learns the correlation between audio features and body skeleton landmarks.\n",
    "<br/>input : violin or piano music\n",
    "<br/>output : a video of skeleton predictions that are further used to animate an avatar\n",
    "### 作業 3：資料來源 \n",
    "They leveraged publicly available videos of highly skilled musicians playing online which could also potentially allow a higher degree of diversity in data. They collected 3.6 hours of violin and 4.4 hours of piano recital “in the wild” videos from the Internet and processed the videos by detecting upper body, and fingers in each frame of each video."
   ]
  }
 ],
 "metadata": {
  "kernelspec": {
   "display_name": "Python 3",
   "language": "python",
   "name": "python3"
  },
  "language_info": {
   "codemirror_mode": {
    "name": "ipython",
    "version": 3
   },
   "file_extension": ".py",
   "mimetype": "text/x-python",
   "name": "python",
   "nbconvert_exporter": "python",
   "pygments_lexer": "ipython3",
   "version": "3.6.6"
  }
 },
 "nbformat": 4,
 "nbformat_minor": 2
}
